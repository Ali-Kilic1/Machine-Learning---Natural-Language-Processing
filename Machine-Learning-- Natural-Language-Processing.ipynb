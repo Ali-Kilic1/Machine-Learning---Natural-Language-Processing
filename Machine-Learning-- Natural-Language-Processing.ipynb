{
 "cells": [
  {
   "cell_type": "code",
   "execution_count": 1,
   "id": "a1ee7d56",
   "metadata": {},
   "outputs": [],
   "source": [
    "#Gerekli kütüphanelerin import edilmesi\n",
    "import pandas as pd\n",
    "import numpy as np \n",
    "import matplotlib.pyplot as plt\n",
    "import re\n",
    "import nltk#Natural Language Toolkit\n",
    "from nltk.stem.porter import PorterStemmer#Kelime köklerini bulamak için gerekli olan kütüphane\n",
    "ps=PorterStemmer()\n",
    "from nltk.corpus import stopwords\n",
    "\n",
    "from sklearn.metrics import ConfusionMatrixDisplay#Hata Ayıklama Kütüphanesi\n",
    "from sklearn.metrics import confusion_matrix#Hata Ayıklama Kütüphanesi"
   ]
  },
  {
   "cell_type": "code",
   "execution_count": 2,
   "id": "9d41dc39",
   "metadata": {
    "scrolled": false
   },
   "outputs": [
    {
     "data": {
      "text/html": [
       "<div>\n",
       "<style scoped>\n",
       "    .dataframe tbody tr th:only-of-type {\n",
       "        vertical-align: middle;\n",
       "    }\n",
       "\n",
       "    .dataframe tbody tr th {\n",
       "        vertical-align: top;\n",
       "    }\n",
       "\n",
       "    .dataframe thead th {\n",
       "        text-align: right;\n",
       "    }\n",
       "</style>\n",
       "<table border=\"1\" class=\"dataframe\">\n",
       "  <thead>\n",
       "    <tr style=\"text-align: right;\">\n",
       "      <th></th>\n",
       "      <th>text</th>\n",
       "      <th>label</th>\n",
       "    </tr>\n",
       "  </thead>\n",
       "  <tbody>\n",
       "    <tr>\n",
       "      <th>0</th>\n",
       "      <td>It's been about 14 years since Sharon Stone aw...</td>\n",
       "      <td>0</td>\n",
       "    </tr>\n",
       "    <tr>\n",
       "      <th>1</th>\n",
       "      <td>someone needed to make a car payment... this i...</td>\n",
       "      <td>0</td>\n",
       "    </tr>\n",
       "    <tr>\n",
       "      <th>2</th>\n",
       "      <td>The Guidelines state that a comment must conta...</td>\n",
       "      <td>0</td>\n",
       "    </tr>\n",
       "    <tr>\n",
       "      <th>3</th>\n",
       "      <td>This movie is a muddled mish-mash of clichés f...</td>\n",
       "      <td>0</td>\n",
       "    </tr>\n",
       "    <tr>\n",
       "      <th>4</th>\n",
       "      <td>Before Stan Laurel became the smaller half of ...</td>\n",
       "      <td>0</td>\n",
       "    </tr>\n",
       "  </tbody>\n",
       "</table>\n",
       "</div>"
      ],
      "text/plain": [
       "                                                text  label\n",
       "0  It's been about 14 years since Sharon Stone aw...      0\n",
       "1  someone needed to make a car payment... this i...      0\n",
       "2  The Guidelines state that a comment must conta...      0\n",
       "3  This movie is a muddled mish-mash of clichés f...      0\n",
       "4  Before Stan Laurel became the smaller half of ...      0"
      ]
     },
     "execution_count": 2,
     "metadata": {},
     "output_type": "execute_result"
    }
   ],
   "source": [
    "data=pd.read_csv(\"Valid.csv\" ,on_bad_lines='skip')#Datamızın Hazrılanması\n",
    "data.head()"
   ]
  },
  {
   "cell_type": "code",
   "execution_count": 3,
   "id": "7ac50061",
   "metadata": {},
   "outputs": [
    {
     "data": {
      "text/plain": [
       "text     0\n",
       "label    0\n",
       "dtype: int64"
      ]
     },
     "execution_count": 3,
     "metadata": {},
     "output_type": "execute_result"
    }
   ],
   "source": [
    "data.isnull().sum()"
   ]
  },
  {
   "cell_type": "code",
   "execution_count": 6,
   "id": "06516342",
   "metadata": {},
   "outputs": [
    {
     "name": "stderr",
     "output_type": "stream",
     "text": [
      "[nltk_data] Downloading package stopwords to\n",
      "[nltk_data]     C:\\Users\\ACER\\AppData\\Roaming\\nltk_data...\n",
      "[nltk_data]   Package stopwords is already up-to-date!\n"
     ]
    },
    {
     "data": {
      "text/plain": [
       "True"
      ]
     },
     "execution_count": 6,
     "metadata": {},
     "output_type": "execute_result"
    }
   ],
   "source": [
    "#Stopwords=Cümle içerisinde anlamı olmayan kelimeler()\n",
    "nltk.download(\"stopwords\")"
   ]
  },
  {
   "cell_type": "code",
   "execution_count": 7,
   "id": "58a0fdbd",
   "metadata": {},
   "outputs": [],
   "source": [
    "kapsam=[]\n",
    "for i in range (5000):\n",
    "    icerik=re.sub(\"[a-zA-Z]\",\" \",data[\"text\"][i])#Harf dışındaki karekterleri boşluk karekteri ile değiştir\n",
    "    icerik=icerik.lower()#Tüm harfleri küçük harf yap\n",
    "    icerik=icerik.split()#Cümleleri liste haline getir\n",
    "    icerik=[ps.stem(kelime) for kelime in icerik if not kelime in set(stopwords.words(\"english\"))]#stopwords olmayan kelimeleri ve kök kelimeleri getir\n",
    "    icerik=\" \".join(icerik)#String hale çevir\n",
    "    kapsam.append(icerik)#Biriken verileri bir liste de topladım"
   ]
  },
  {
   "cell_type": "code",
   "execution_count": 8,
   "id": "24c46847",
   "metadata": {},
   "outputs": [],
   "source": [
    "#Kelime Sayacı;\n",
    "from sklearn.feature_extraction.text import CountVectorizer\n",
    "cv=CountVectorizer(max_features=300000)#En fazla kullanılan 300.000 kelimeyi getir\n",
    "x=cv.fit_transform(kapsam).toarray()#Bağımsız Değişken\n",
    "y=data[\"label\"]#Bağımlı Değişken"
   ]
  },
  {
   "cell_type": "code",
   "execution_count": 9,
   "id": "92a9624b",
   "metadata": {},
   "outputs": [],
   "source": [
    "#Veriyi eğitim ve test kümelerine ayırdım\n",
    "from sklearn.model_selection import train_test_split\n",
    "x_train,x_test,y_train,y_test=train_test_split(x,y,test_size=0.3,random_state=42)"
   ]
  },
  {
   "cell_type": "code",
   "execution_count": 13,
   "id": "857a7145",
   "metadata": {},
   "outputs": [
    {
     "data": {
      "text/plain": [
       "<sklearn.metrics._plot.confusion_matrix.ConfusionMatrixDisplay at 0x2c1e8d57610>"
      ]
     },
     "execution_count": 13,
     "metadata": {},
     "output_type": "execute_result"
    },
    {
     "data": {
      "image/png": "[encoded data removed]",
      "text/plain": [
       "<Figure size 432x288 with 2 Axes>"
      ]
     },
     "metadata": {
      "needs_background": "light"
     },
     "output_type": "display_data"
    }
   ],
   "source": [
    "#Random Forest Classifier\n",
    "from sklearn.ensemble import RandomForestClassifier\n",
    "rf=RandomForestClassifier(n_estimators=10,criterion=\"entropy\")\n",
    "rf.fit(x_train,y_train)#Öğren\n",
    "y_pred=rf.predict(x_test)#Tahmin Et\n",
    "\n",
    "#Hata Ayıklama\n",
    "cm=confusion_matrix(y_test,y_pred)\n",
    "tabl=ConfusionMatrixDisplay(cm)\n",
    "tabl.plot()\n"
   ]
  }
 ],
 "metadata": {
  "kernelspec": {
   "display_name": "Python 3 (ipykernel)",
   "language": "python",
   "name": "python3"
  },
  "language_info": {
   "codemirror_mode": {
    "name": "ipython",
    "version": 3
   },
   "file_extension": ".py",
   "mimetype": "text/x-python",
   "name": "python",
   "nbconvert_exporter": "python",
   "pygments_lexer": "ipython3",
   "version": "3.9.7"
  }
 },
 "nbformat": 4,
 "nbformat_minor": 5
}
